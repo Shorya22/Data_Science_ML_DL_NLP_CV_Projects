{
 "cells": [
  {
   "cell_type": "code",
   "execution_count": 1,
   "id": "13550d20",
   "metadata": {},
   "outputs": [],
   "source": [
    "import numpy as np\n",
    "import pandas as pd\n",
    "import seaborn as sns\n",
    "import matplotlib.pyplot as plt\n",
    "from sklearn.preprocessing import LabelEncoder\n",
    "from sklearn.model_selection import train_test_split\n",
    "from sklearn.linear_model import LogisticRegression\n",
    "from sklearn.neural_network import MLPClassifier\n",
    "from sklearn.feature_selection import VarianceThreshold\n",
    "\n",
    "import warnings\n",
    "warnings.filterwarnings ('ignore')\n",
    "\n",
    "import joblib"
   ]
  },
  {
   "cell_type": "code",
   "execution_count": 2,
   "id": "fa94a184",
   "metadata": {},
   "outputs": [],
   "source": [
    "data= pd.read_csv('Human Activity Reco. with smartphone data.csv')"
   ]
  },
  {
   "cell_type": "code",
   "execution_count": 3,
   "id": "28259b90",
   "metadata": {},
   "outputs": [],
   "source": [
    "data"
   ]
  },
  {
   "cell_type": "code",
   "execution_count": 4,
   "id": "6cf84a9c",
   "metadata": {},
   "outputs": [],
   "source": [
    "data.shape"
   ]
  },
  {
   "cell_type": "code",
   "execution_count": 5,
   "id": "6dc4a67f",
   "metadata": {},
   "outputs": [],
   "source": [
    "data.describe()"
   ]
  },
  {
   "cell_type": "code",
   "execution_count": 6,
   "id": "c135b5a4",
   "metadata": {},
   "outputs": [],
   "source": [
    "data.info()"
   ]
  },
  {
   "cell_type": "code",
   "execution_count": 7,
   "id": "931cf089",
   "metadata": {},
   "outputs": [],
   "source": [
    "list(data.columns)"
   ]
  },
  {
   "cell_type": "code",
   "execution_count": 8,
   "id": "61449a39",
   "metadata": {},
   "outputs": [],
   "source": [
    "data.isna().sum()"
   ]
  },
  {
   "cell_type": "code",
   "execution_count": 9,
   "id": "3cd83964",
   "metadata": {},
   "outputs": [],
   "source": [
    "data['Activity'].value_counts().sort_values().plot(kind = 'bar', color = 'pink')"
   ]
  },
  {
   "cell_type": "code",
   "execution_count": 10,
   "id": "42355fcd",
   "metadata": {},
   "outputs": [],
   "source": [
    "data.drop('subject', axis=1,inplace=True)"
   ]
  },
  {
   "cell_type": "code",
   "execution_count": 11,
   "id": "16940499",
   "metadata": {},
   "outputs": [],
   "source": [
    "encoder= LabelEncoder()\n",
    "data['Activity']=encoder.fit_transform(data['Activity'])"
   ]
  },
  {
   "cell_type": "code",
   "execution_count": 12,
   "id": "cd7ff549",
   "metadata": {},
   "outputs": [],
   "source": [
    "duplicate_columns = data.columns[data.T.duplicated()].tolist() "
   ]
  },
  {
   "cell_type": "code",
   "execution_count": 13,
   "id": "dd320134",
   "metadata": {},
   "outputs": [],
   "source": [
    "data=data.drop(columns= duplicate_columns)"
   ]
  },
  {
   "cell_type": "code",
   "execution_count": 14,
   "id": "c475d863",
   "metadata": {},
   "outputs": [],
   "source": [
    "data.shape"
   ]
  },
  {
   "cell_type": "code",
   "execution_count": 15,
   "id": "1f9806b3",
   "metadata": {},
   "outputs": [],
   "source": [
    "X= data.drop('Activity', axis=1)\n",
    "y= data['Activity']"
   ]
  },
  {
   "cell_type": "code",
   "execution_count": 16,
   "id": "320ad1fa",
   "metadata": {},
   "outputs": [],
   "source": [
    "X_train,X_test,y_train,y_test=train_test_split(X,y,test_size=0.2,random_state=42)"
   ]
  },
  {
   "cell_type": "code",
   "execution_count": 17,
   "id": "57be6539",
   "metadata": {},
   "outputs": [],
   "source": [
    "model= LogisticRegression()\n",
    "model.fit(X_train,y_train)"
   ]
  },
  {
   "cell_type": "code",
   "execution_count": 18,
   "id": "1ada52a2",
   "metadata": {},
   "outputs": [],
   "source": [
    "Model_Score_Raw_data=model.score(X_test,y_test)"
   ]
  },
  {
   "cell_type": "code",
   "execution_count": 19,
   "id": "ae8f7cde",
   "metadata": {},
   "outputs": [],
   "source": [
    "model.score(X_train,y_train)"
   ]
  },
  {
   "cell_type": "code",
   "execution_count": 20,
   "id": "7d0c311c",
   "metadata": {},
   "outputs": [],
   "source": [
    "selector= VarianceThreshold(threshold=0.05)\n",
    "selected_features= selector.fit(X_train)\n",
    "X_train_high_variance= selector.transform(X_train)\n",
    "X_test_high_variance= selector.transform(X_test)\n",
    "\n"
   ]
  },
  {
   "cell_type": "code",
   "execution_count": 21,
   "id": "32b3f37a",
   "metadata": {},
   "outputs": [],
   "source": [
    "# Total High Variance Features Only, Less than threshold features are already removed\n",
    "sum(selected_features.get_support())"
   ]
  },
  {
   "cell_type": "code",
   "execution_count": 22,
   "id": "7319c562",
   "metadata": {},
   "outputs": [],
   "source": [
    "selected_indices=selected_features.get_support()\n",
    "selected_feature_names= X_train.columns[selected_indices]"
   ]
  },
  {
   "cell_type": "code",
   "execution_count": 23,
   "id": "5b6a6fcf",
   "metadata": {},
   "outputs": [],
   "source": [
    "X_train_vt= pd.DataFrame(X_train_high_variance,columns= selected_feature_names)\n",
    "X_test_vt= pd.DataFrame(X_test_high_variance,columns= selected_feature_names)"
   ]
  },
  {
   "cell_type": "code",
   "execution_count": 24,
   "id": "c6b7f542",
   "metadata": {},
   "outputs": [],
   "source": [
    "X_train_vt.shape, X_test_vt.shape"
   ]
  },
  {
   "cell_type": "code",
   "execution_count": 25,
   "id": "cca8a5d6",
   "metadata": {},
   "outputs": [],
   "source": [
    "model=  LogisticRegression()\n",
    "model.fit(X_train_vt,y_train)"
   ]
  },
  {
   "cell_type": "code",
   "execution_count": 26,
   "id": "8ba00eb7",
   "metadata": {},
   "outputs": [],
   "source": [
    "Model_Score_After_vt=model.score(X_test_vt,y_test)"
   ]
  },
  {
   "cell_type": "code",
   "execution_count": 27,
   "id": "df04c732",
   "metadata": {},
   "outputs": [],
   "source": [
    "model.score(X_train_vt,y_train)"
   ]
  },
  {
   "cell_type": "code",
   "execution_count": null,
   "id": "2d1cb819",
   "metadata": {},
   "outputs": [],
   "source": []
  },
  {
   "cell_type": "code",
   "execution_count": 28,
   "id": "1ec9c207",
   "metadata": {},
   "outputs": [],
   "source": [
    "X_train_vt['Activity']= data['Activity']\n",
    "X_train_vt.shape"
   ]
  },
  {
   "cell_type": "code",
   "execution_count": 29,
   "id": "5384c2bc",
   "metadata": {},
   "outputs": [],
   "source": [
    "X_train_vt"
   ]
  },
  {
   "cell_type": "code",
   "execution_count": 30,
   "id": "5d032463",
   "metadata": {},
   "outputs": [],
   "source": [
    "threshold= 0.0001\n",
    "correlation_matrix= X_train_vt.corr()\n",
    "activity_corr= correlation_matrix['Activity']\n"
   ]
  },
  {
   "cell_type": "code",
   "execution_count": 31,
   "id": "a95649a2",
   "metadata": {},
   "outputs": [],
   "source": [
    "#Method-1 (Find Features, those are highly correlated to target feature and then train and test then predict model score)\n",
    "\n",
    "selected_features = correlation_matrix[\n",
    "    (correlation_matrix['Activity'] > threshold) &\n",
    "    (correlation_matrix.index != 'Activity')\n",
    "]\n",
    "\n",
    "print(\"Selected features:\")\n",
    "print(selected_features)"
   ]
  },
  {
   "cell_type": "code",
   "execution_count": 32,
   "id": "b288165e",
   "metadata": {},
   "outputs": [],
   "source": [
    "selected_feature_names= selected_features.index.to_list()"
   ]
  },
  {
   "cell_type": "code",
   "execution_count": 33,
   "id": "ab7ff8ee",
   "metadata": {},
   "outputs": [],
   "source": [
    "X_train_vt_ac= pd.DataFrame(X_train_vt, columns=selected_feature_names)\n",
    "X_test_vt_ac= pd.DataFrame(X_test_vt, columns=selected_feature_names)"
   ]
  },
  {
   "cell_type": "code",
   "execution_count": 34,
   "id": "4972c184",
   "metadata": {
    "scrolled": true
   },
   "outputs": [],
   "source": [
    "X_train_vt_ac.shape"
   ]
  },
  {
   "cell_type": "code",
   "execution_count": 35,
   "id": "f47bf218",
   "metadata": {},
   "outputs": [],
   "source": [
    "model= LogisticRegression()\n",
    "model.fit(X_train_vt_ac,y_train)"
   ]
  },
  {
   "cell_type": "code",
   "execution_count": 36,
   "id": "dc9de066",
   "metadata": {},
   "outputs": [],
   "source": [
    "Model_Score_After_one_to_many_corr=model.score(X_test_vt_ac,y_test)"
   ]
  },
  {
   "cell_type": "code",
   "execution_count": 37,
   "id": "60f6e77e",
   "metadata": {},
   "outputs": [],
   "source": [
    "# Method-2 (Find those features, which are highly correlated to eachother)\n",
    "\n",
    "threshold= 0.95\n",
    "correlation_matrix= X_train_vt.corr()\n",
    "\n",
    "highly_correlated_features= set()\n",
    "\n",
    "for i in range (len(correlation_matrix.columns)):\n",
    "    for j in range (i):\n",
    "        if correlation_matrix.iloc[i,j]>threshold:\n",
    "            highly_correlated_features.add(correlation_matrix.columns[i])\n",
    "            highly_correlated_features.add(correlation_matrix.columns[j])\n",
    "\n",
    "\n"
   ]
  },
  {
   "cell_type": "code",
   "execution_count": 38,
   "id": "198e6751",
   "metadata": {},
   "outputs": [],
   "source": [
    "X_train_vt.drop(columns= highly_correlated_features , axis=1, inplace= True)\n",
    "X_test_vt.drop(columns= highly_correlated_features, axis=1, inplace= True)"
   ]
  },
  {
   "cell_type": "code",
   "execution_count": 39,
   "id": "d4d07dd3",
   "metadata": {},
   "outputs": [],
   "source": [
    "X_train_vt.drop('Activity', axis=1, inplace= True ) #Activity we add only just to find correlation between each and every column"
   ]
  },
  {
   "cell_type": "code",
   "execution_count": 40,
   "id": "33014863",
   "metadata": {},
   "outputs": [],
   "source": [
    "X_train_ac2=pd.DataFrame(X_train_vt, columns=X_test_vt.columns)\n",
    "X_test_ac2=pd.DataFrame(X_test_vt, columns=X_test_vt.columns)"
   ]
  },
  {
   "cell_type": "code",
   "execution_count": 41,
   "id": "26cd47a3",
   "metadata": {},
   "outputs": [],
   "source": [
    "X_train_ac2.shape"
   ]
  },
  {
   "cell_type": "code",
   "execution_count": 42,
   "id": "c890d3b8",
   "metadata": {},
   "outputs": [],
   "source": [
    "model= LogisticRegression()\n",
    "model.fit(X_train_ac2,y_train)\n"
   ]
  },
  {
   "cell_type": "code",
   "execution_count": 43,
   "id": "5e8d295c",
   "metadata": {
    "scrolled": true
   },
   "outputs": [],
   "source": [
    "Model_Score_After_one_to_one_corr=model.score(X_test_ac2, y_test)\n",
    "Model_Score_After_one_to_one_corr"
   ]
  },
  {
   "cell_type": "code",
   "execution_count": 44,
   "id": "dd929865",
   "metadata": {},
   "outputs": [],
   "source": [
    "print('Model_Score_Raw_data:',Model_Score_Raw_data)\n",
    "print('Model_Score_After_vt:',Model_Score_After_vt)\n",
    "print('Model_Score_After_one_to_many_corr:',Model_Score_After_one_to_many_corr)\n",
    "print('Model_Score_After_one_to_one_corr:',Model_Score_After_one_to_one_corr)"
   ]
  },
  {
   "cell_type": "code",
   "execution_count": null,
   "id": "cedebf37",
   "metadata": {},
   "outputs": [],
   "source": []
  }
 ],
 "metadata": {
  "kernelspec": {
   "display_name": "Python 3 (ipykernel)",
   "language": "python",
   "name": "python3"
  },
  "language_info": {
   "codemirror_mode": {
    "name": "ipython",
    "version": 3
   },
   "file_extension": ".py",
   "mimetype": "text/x-python",
   "name": "python",
   "nbconvert_exporter": "python",
   "pygments_lexer": "ipython3",
   "version": "3.11.4"
  }
 },
 "nbformat": 4,
 "nbformat_minor": 5
}
